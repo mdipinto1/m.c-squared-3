{
 "cells": [
  {
   "cell_type": "code",
   "execution_count": 4,
   "metadata": {},
   "outputs": [],
   "source": [
    "import os\n",
    "from dotenv import load_dotenv\n",
    "import gradio as gr\n",
    "from langchain_openai import ChatOpenAI\n",
    "from langchain.chains import ConversationChain\n",
    "from langchain.memory import ConversationEntityMemory\n",
    "from langchain.memory.prompt import ENTITY_MEMORY_CONVERSATION_TEMPLATE\n",
    "\n",
    "load_dotenv()\n",
    "\n",
    "OPENAI_API_KEY = os.getenv(\"OPENAI_API_KEY\")\n",
    "OPENAI_MODEL = \"gpt-3.5-turbo\"\n",
    "\n",
    "llm = ChatOpenAI(openai_api_key=OPENAI_API_KEY, model_name=OPENAI_MODEL, temperature=0.0)\n",
    "buffer = ConversationEntityMemory(llm=llm)\n",
    "conversation = ConversationChain(llm=llm, memory=buffer, prompt=ENTITY_MEMORY_CONVERSATION_TEMPLATE)\n",
    "\n",
    "# Define the function for generating itinerary based on user inputs\n",
    "def generate_itinerary(City, Days, Activities_Per_Day, Top_Priority, Other_Preferences, Special_Requests):\n",
    "    query = (\n",
    "        f\"\"\"You are my personal travel agent. I'm planning a trip and would like you to prepare my\n",
    "        itinerary for {Days} days in {City} with {Activities_Per_Day} activities per day.\n",
    "        My top priority for this trip is {Top_Priority}, and I also like to do {', '.join(Other_Preferences)}\n",
    "        with any special requests: {Special_Requests}. Please provide the itinerary by day in list format and include\n",
    "        the addresses of each of the activities.\"\"\"\n",
    "    )\n",
    "    itinerary = conversation.predict(input=query)\n",
    "    return itinerary\n",
    "\n",
    "def feedback_itinerary(user_feedback):\n",
    "    query = f\"I didn't like that itinerary because {user_feedback}. Please provide me a new itinerary based on the new feedback. Keep the original inputs.\"\n",
    "    new_itinerary = conversation.predict(input=query)\n",
    "    return new_itinerary"
   ]
  },
  {
   "cell_type": "code",
   "execution_count": 45,
   "metadata": {},
   "outputs": [
    {
     "name": "stdout",
     "output_type": "stream",
     "text": [
      "Running on local URL:  http://127.0.0.1:7899\n",
      "\n",
      "To create a public link, set `share=True` in `launch()`.\n"
     ]
    },
    {
     "data": {
      "text/html": [
       "<div><iframe src=\"http://127.0.0.1:7899/\" width=\"100%\" height=\"500\" allow=\"autoplay; camera; microphone; clipboard-read; clipboard-write;\" frameborder=\"0\" allowfullscreen></iframe></div>"
      ],
      "text/plain": [
       "<IPython.core.display.HTML object>"
      ]
     },
     "metadata": {},
     "output_type": "display_data"
    },
    {
     "data": {
      "text/plain": []
     },
     "execution_count": 45,
     "metadata": {},
     "output_type": "execute_result"
    }
   ],
   "source": [
    "def update_visibility(radio_input):\n",
    "    if radio_input == 'Yes':\n",
    "        return gr.Textbox(visible=False), gr.Button(visible=False)\n",
    "    else:\n",
    "        return gr.Textbox(visible=True), gr.Button(visible=True)\n",
    "\n",
    "theme = gr.themes.Soft()\n",
    "\n",
    "with gr.Blocks(theme=theme) as app:\n",
    "    with gr.Row():\n",
    "        with gr.Column(scale=1, min_width=300):\n",
    "            city = gr.Textbox(label=\"City\")\n",
    "            days = gr.Number(label=\"Days\", step=1)\n",
    "            activities_per_day = gr.Number(label=\"Activities Per Day\", step=1)\n",
    "        with gr.Column(scale=2, min_width=500):\n",
    "            top_priority = gr.Radio(label=\"Top Priority\", choices=[\"Music\", \"Food\", \"Museums\", \"Sports\"])\n",
    "            other_preferences = gr.CheckboxGroup(label=\"Other Preferences\", choices=[\"Adventure\", \"Food\", \"Michelin Star Meals\", \"Museums\", \"Nature\", \"Sports\", \"Wine Tasting\"])\n",
    "            special_requests = gr.Textbox(label=\"Special Requests\")\n",
    "    with gr.Row():\n",
    "        submit = gr.Button(\"Generate Itinerary\")\n",
    "        \n",
    "    \n",
    "    itinerary_output = gr.Textbox(label=\"Recommended Itinerary\", interactive=False)\n",
    "\n",
    "    with gr.Row():\n",
    "        with gr.Column(scale=1, min_width=300):\n",
    "            click_me = gr.Radio(['Yes','No'], label=\"Do you like this itinerary?\")\n",
    "        with gr.Column(scale=2, min_width=500):\n",
    "            user_feedback = gr.Textbox(label=\"What didn't you like about it?\", interactive=True)\n",
    "    with gr.Row():\n",
    "        submit2 = gr.Button(\"Generate New Itinerary\")\n",
    "   \n",
    "    # Define callbacks\n",
    "    submit.click(fn=generate_itinerary, inputs=[city, days, activities_per_day, top_priority, other_preferences, special_requests], outputs=itinerary_output)\n",
    "    click_me.change(update_visibility, inputs=[click_me], outputs=[user_feedback, submit2])\n",
    "    submit2.click(fn=feedback_itinerary, inputs=[user_feedback], outputs=itinerary_output)\n",
    "    \n",
    "app.launch()\n",
    "\n"
   ]
  }
 ],
 "metadata": {
  "kernelspec": {
   "display_name": "base",
   "language": "python",
   "name": "python3"
  },
  "language_info": {
   "codemirror_mode": {
    "name": "ipython",
    "version": 3
   },
   "file_extension": ".py",
   "mimetype": "text/x-python",
   "name": "python",
   "nbconvert_exporter": "python",
   "pygments_lexer": "ipython3",
   "version": "3.11.5"
  }
 },
 "nbformat": 4,
 "nbformat_minor": 2
}
