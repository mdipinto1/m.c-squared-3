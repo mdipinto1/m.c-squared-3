{
 "cells": [
  {
   "cell_type": "code",
   "execution_count": 12,
   "metadata": {},
   "outputs": [],
   "source": [
    "import pandas as pd\n",
    "import json"
   ]
  },
  {
   "cell_type": "code",
   "execution_count": 194,
   "metadata": {},
   "outputs": [],
   "source": [
    "business_df = pd.read_json('./Data/yelp_academic_dataset_business.json', lines=True)\n",
    "business_df = business_df[(business_df['state'] == 'TN') & (business_df['is_open'] == 1)]\n",
    "business_df['categories'] = business_df['categories'].fillna('')\n",
    "business_df = business_df[business_df['categories'].str.contains('Restaurants')]"
   ]
  },
  {
   "cell_type": "code",
   "execution_count": 14,
   "metadata": {},
   "outputs": [],
   "source": [
    "checkin_df = pd.read_json('./Data/yelp_academic_dataset_checkin.json', lines=True)\n",
    "checkin_df = checkin_df.loc[checkin_df['business_id'].isin(business_df['business_id'])]"
   ]
  },
  {
   "cell_type": "code",
   "execution_count": 15,
   "metadata": {},
   "outputs": [],
   "source": [
    "useful_chunks = []\n",
    "\n",
    "for chunk in pd.read_json('./Data/yelp_academic_dataset_review.json', lines=True, chunksize=100000):\n",
    "    filtered_chunk = chunk.loc[chunk['business_id'].isin(business_df['business_id'])]\n",
    "    useful_chunks.append(filtered_chunk)\n",
    "\n",
    "reviews_df = pd.concat(useful_chunks)"
   ]
  },
  {
   "cell_type": "code",
   "execution_count": 16,
   "metadata": {},
   "outputs": [],
   "source": [
    "tip_df = pd.read_json('./Data/yelp_academic_dataset_tip.json', lines=True)\n",
    "tip_df = tip_df.loc[tip_df['business_id'].isin(business_df['business_id'])]"
   ]
  },
  {
   "cell_type": "code",
   "execution_count": 183,
   "metadata": {},
   "outputs": [],
   "source": [
    "# display(business_df.shape)\n",
    "# display(checkin_df.shape)\n",
    "# display(reviews_df.shape)\n",
    "# display(tip_df.shape)"
   ]
  },
  {
   "cell_type": "code",
   "execution_count": 18,
   "metadata": {},
   "outputs": [],
   "source": [
    "from sklearn.preprocessing import OneHotEncoder\n",
    "from sklearn.feature_extraction.text import TfidfVectorizer"
   ]
  },
  {
   "cell_type": "code",
   "execution_count": 195,
   "metadata": {},
   "outputs": [],
   "source": [
    "all_restaurant_types = business_df['categories'].str.split(',').explode().str.strip().value_counts().index\n",
    "valid_types = all_restaurant_types[:128].tolist()\n",
    "types_to_remove = ['Restaurants','Event Planning & Services','Caterers','Music Venues','Food Delivery Services','Venues & Event Spaces','Hotels & Travel','Convenience Stores','International Grocery','Performing Arts','Florists','Active Life','Food','Nightlife', 'Arcades', 'Flowers & Gifts','Butcher', 'Jazz & Blues','Party & Event Planning','Dance Clubs']\n",
    "for type in types_to_remove:\n",
    "    valid_types.remove(type)"
   ]
  },
  {
   "cell_type": "code",
   "execution_count": 196,
   "metadata": {},
   "outputs": [],
   "source": [
    "business_df.dropna(subset=['attributes'], inplace=True)\n",
    "#extract: Outdoor Seating, Alcohol, RestaurantsPriceRange2\n",
    "business_df['OutdoorSeating'] = business_df['attributes'].apply(lambda x: x.get('OutdoorSeating', None))\n",
    "business_df['Alcohol'] = business_df['attributes'].apply(lambda x: x.get('Alcohol', None))\n",
    "business_df['RestaurantsPriceRange2'] = business_df['attributes'].apply(lambda x: x.get('RestaurantsPriceRange2', None))\n",
    "\n",
    "#fill outdoor seating with false\n",
    "business_df['OutdoorSeating'].fillna(False, inplace=True)\n",
    "business_df['OutdoorSeating'].replace({'False': False, 'True': True, 'None': False}, inplace=True)\n",
    "#fill alcohol with none\n",
    "business_df['Alcohol'].fillna('none', inplace=True)\n",
    "business_df['Alcohol'].replace({\n",
    "                            \"u'none'\" : 'none',\n",
    "                            \"u'full_bar'\" : 'full_bar',\n",
    "                            \"u'beer_and_wine'\" : 'beer_and_wine',\n",
    "                            \"'none'\" : 'none',\n",
    "                            \"'full_bar'\" : 'full_bar',\n",
    "                            \"'beer_and_wine'\" : 'beer_and_wine',\n",
    "                            }, inplace=True)\n",
    "#fill price range with 2\n",
    "business_df['RestaurantsPriceRange2'].fillna(2, inplace=True)\n",
    "business_df['RestaurantsPriceRange2'] = business_df['RestaurantsPriceRange2'].astype(int)\n",
    "\n",
    "#fill hours with generic hours dict\n",
    "business_df['hours'].fillna(\"{'Monday': '0:0-0:0', 'Tuesday': '0:0-0:0', 'Wednesday': '0:0-0:0', 'Thursday': '0:0-0:0', 'Friday': '0:0-0:0', 'Saturday': '0:0-0:0', 'Sunday': '0:0-0:0'}\", inplace=True)"
   ]
  },
  {
   "cell_type": "code",
   "execution_count": 197,
   "metadata": {},
   "outputs": [],
   "source": [
    "def encode_top_categories(row, valid_types):\n",
    "    row_categories = set(row['categories'])\n",
    "    return [1 if cat in row_categories else 0 for cat in valid_types]\n",
    "\n",
    "\n",
    "business_df['categories'] = business_df['categories'].str.split(',')\n",
    "business_df['categories'] = business_df['categories'].apply(lambda x: [str(cat).strip() for cat in x])"
   ]
  },
  {
   "cell_type": "code",
   "execution_count": 198,
   "metadata": {},
   "outputs": [
    {
     "name": "stderr",
     "output_type": "stream",
     "text": [
      "c:\\Users\\matt.dipinto\\AppData\\Local\\anaconda3\\Lib\\site-packages\\sklearn\\preprocessing\\_label.py:900: UserWarning: unknown class(es) ['Active Life', 'Adult Entertainment', 'Amateur Sports Teams', 'Amusement Parks', 'Aquariums', 'Arcades', 'Argentine', 'Armenian', 'Art Galleries', 'Arts & Crafts', 'Australian', 'Auto Detailing', 'Auto Glass Services', 'Auto Repair', 'Axe Throwing', 'Bangladeshi', 'Bartenders', 'Beauty & Spas', 'Bed & Breakfast', 'Beer Tours', 'Beverage Store', 'Bistros', 'Boating', 'Books', 'Bowling', 'Brasseries', 'Brazilian', 'British', 'Butcher', 'Cafeteria', 'Candy Stores', 'Cantonese', 'Car Wash', 'Caterers', 'Cheese Shops', 'Chocolatiers & Shops', 'Cideries', 'Cigar Bars', 'Cinema', 'Colombian', 'Comedy Clubs', 'Community Centers', 'Community Service/Non-Profit', 'Contractors', 'Convenience Stores', 'Cooking Classes', 'Cosmetics & Beauty Supply', 'Country Clubs', 'Couriers & Delivery Services', 'Cuban', 'Cultural Center', 'Cupcakes', 'Custom Cakes', 'Dance Clubs', 'Day Spas', 'Department Stores', 'Dim Sum', 'Dinner Theater', 'Distilleries', 'Do-It-Yourself Food', 'Dog Parks', 'Dominican', 'Drugstores', 'Eatertainment', 'Education', 'Egyptian', 'Empanadas', 'Ethical Grocery', 'Ethnic Grocery', 'Event Planning & Services', 'Falafel', 'Fashion', 'Festivals', 'Filipino', 'Fitness & Instruction', 'Florists', 'Flowers & Gifts', 'Food', 'Food Delivery Services', 'Fruits & Veggies', 'Gas Stations', 'Gay Bars', 'Gelato', 'German', 'Gift Shops', 'Go Karts', 'Golf', 'Grill Services', 'Gymnastics', 'Gyms', 'Hair Salons', 'Health & Medical', 'Heating & Air Conditioning/HVAC', 'Herbs & Spices', 'Himalayan/Nepalese', 'Historical Tours', 'Home & Garden', 'Home Decor', 'Home Organization', 'Home Services', 'Honduran', 'Honey', 'Hospitals', 'Hot Pot', 'Hotels & Travel', 'Imported Food', 'Indoor Playcentre', 'International Grocery', 'Internet Cafes', 'Irish', 'Irish Pub', 'Izakaya', 'Japanese Curry', 'Jazz & Blues', 'Jewelry', 'Kebab', 'Kids Activities', 'Kosher', 'Landmarks & Historical Buildings', 'Lebanese', 'Live/Raw Food', 'Local Services', 'Macarons', 'Mags', 'Marinas', 'Mass Media', 'Medical Centers', \"Men's Clothing\", 'Modern European', 'Mongolian', 'Moroccan', 'Municipality', 'Museums', 'Music & Video', 'Music Venues', 'Musicians', 'Nightlife', 'Nutritionists', 'Organic Stores', 'Oriental', 'Outdoor Gear', 'Pakistani', 'Pan Asian', 'Parking', 'Parks', 'Party & Event Planning', 'Patisserie/Cake Shop', 'Performing Arts', 'Persian/Iranian', 'Personal Chefs', 'Peruvian', 'Pet Adoption', 'Pets', 'Photography Stores & Services', 'Piano Bars', 'Pilates', 'Plumbing', 'Pool Halls', 'Pop-up Shops', 'Popcorn Shops', 'Portuguese', 'Pretzels', 'Professional Services', 'Public Markets', 'Public Services & Government', 'Puerto Rican', 'Radio Stations', 'Recording & Rehearsal Studios', 'Recreation Centers', 'Religious Organizations', 'Resorts', 'Restaurants', 'Russian', 'Seafood Markets', 'Septic Services', 'Shaved Ice', 'Shopping Centers', 'Sicilian', 'Singaporean', 'Skin Care', 'Smokehouse', 'Social Clubs', 'Somali', 'Souvenir Shops', 'Speakeasies', 'Specialty Schools', 'Sporting Goods', 'Sports Clubs', 'Swimming Pools', 'Syrian', 'Tabletop Games', 'Taiwanese', 'Tea Rooms', 'Tennis', 'Teppanyaki', 'Thrift Stores', 'Tiki Bars', 'Tobacco Shops', 'Tours', 'Trainers', 'Travel Services', 'Used', 'Uzbek', 'Venezuelan', 'Venues & Event Spaces', 'Vintage & Consignment', 'Vinyl Records', 'Vitamins & Supplements', 'Water Heater Installation/Repair', 'Water Purification Services', 'Wedding Chapels', 'Wedding Planning', 'Wholesale Stores', 'Wine Tasting Room', 'Wineries', \"Women's Clothing\", 'Yoga'] will be ignored\n",
      "  warnings.warn(\n"
     ]
    }
   ],
   "source": [
    "from sklearn.preprocessing import MultiLabelBinarizer\n",
    "\n",
    "mlb = MultiLabelBinarizer(classes=valid_types)\n",
    "\n",
    "encoded_array = mlb.fit_transform(business_df['categories'])\n",
    "# Create a DataFrame from the encoded array\n",
    "encoded_df = pd.DataFrame(encoded_array, columns=mlb.classes_, index=business_df.index)\n",
    "\n",
    "# Concatenate the original DataFrame with the new encoded DataFrame\n",
    "business_df = pd.concat([business_df, encoded_df], axis=1)"
   ]
  },
  {
   "cell_type": "code",
   "execution_count": 199,
   "metadata": {},
   "outputs": [],
   "source": [
    "#onehotencode alcohol, outdoor seating, and price using pandas get_dummies\n",
    "business_df = pd.get_dummies(business_df, columns=['Alcohol', 'OutdoorSeating', 'RestaurantsPriceRange2'], dtype=int)\n"
   ]
  },
  {
   "cell_type": "code",
   "execution_count": 201,
   "metadata": {},
   "outputs": [],
   "source": [
    "#scale the review data\n",
    "from sklearn.preprocessing import MinMaxScaler\n",
    "\n",
    "scaler = MinMaxScaler()\n",
    "scaler.fit(business_df[['stars']])\n",
    "business_df['stars_scaled'] = scaler.transform(business_df[['stars']])"
   ]
  },
  {
   "cell_type": "code",
   "execution_count": null,
   "metadata": {},
   "outputs": [],
   "source": []
  }
 ],
 "metadata": {
  "kernelspec": {
   "display_name": "base",
   "language": "python",
   "name": "python3"
  },
  "language_info": {
   "codemirror_mode": {
    "name": "ipython",
    "version": 3
   },
   "file_extension": ".py",
   "mimetype": "text/x-python",
   "name": "python",
   "nbconvert_exporter": "python",
   "pygments_lexer": "ipython3",
   "version": "3.11.4"
  }
 },
 "nbformat": 4,
 "nbformat_minor": 2
}
