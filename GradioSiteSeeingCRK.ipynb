{
 "cells": [
  {
   "cell_type": "code",
   "execution_count": 4,
   "metadata": {},
   "outputs": [
    {
     "name": "stdout",
     "output_type": "stream",
     "text": [
      "Running on local URL:  http://127.0.0.1:7863\n",
      "\n",
      "To create a public link, set `share=True` in `launch()`.\n"
     ]
    },
    {
     "data": {
      "text/html": [
       "<div><iframe src=\"http://127.0.0.1:7863/\" width=\"100%\" height=\"500\" allow=\"autoplay; camera; microphone; clipboard-read; clipboard-write;\" frameborder=\"0\" allowfullscreen></iframe></div>"
      ],
      "text/plain": [
       "<IPython.core.display.HTML object>"
      ]
     },
     "metadata": {},
     "output_type": "display_data"
    },
    {
     "data": {
      "text/plain": []
     },
     "execution_count": 4,
     "metadata": {},
     "output_type": "execute_result"
    }
   ],
   "source": [
    "\n",
    "import gradio as gr\n",
    "from langchain_openai import ChatOpenAI\n",
    "from langchain.chains import ConversationChain\n",
    "from langchain.memory import ConversationEntityMemory\n",
    "from langchain.memory.prompt import ENTITY_MEMORY_CONVERSATION_TEMPLATE\n",
    "\n",
    "# Set the model name for our LLMs.\n",
    "OPENAI_MODEL = \"gpt-3.5-turbo\"\n",
    "\n",
    "# Store the API key in a variable.\n",
    "OPENAI_API_KEY = \"hardcodeopenaikey\"\n",
    "\n",
    "def clear_history():\n",
    "    pass  # No need for this in Gradio\n",
    "\n",
    "# Initialize the model.\n",
    "llm = ChatOpenAI(openai_api_key=OPENAI_API_KEY, model_name=OPENAI_MODEL, temperature=0.0)\n",
    "\n",
    "# Initialize an object for conversational memory.\n",
    "buffer = ConversationEntityMemory(llm=llm)\n",
    "\n",
    "# Create the chain for conversation, using a ConversationBufferMemory object.\n",
    "conversation = ConversationChain(\n",
    "    llm=llm, \n",
    "    memory=buffer, \n",
    "    prompt=ENTITY_MEMORY_CONVERSATION_TEMPLATE\n",
    ")\n",
    "\n",
    "# Define the function for generating itinerary based on user inputs\n",
    "def generate_itinerary(city, days, activities_per_day, top_priority, other_preferences, special_requests):\n",
    "    query = (\n",
    "        f\"You are my personal travel agent. I'm planning a trip and would like you to prepare my \"\n",
    "        f\"itinerary for {days} days in {city} with {activities_per_day} activities per day. \"\n",
    "        f\"My top priority for this trip is {top_priority}, and I also like to do {', '.join(other_preferences)} \"\n",
    "        f\"with any special requests: {special_requests}. Please provide the itinerary in list format.\"\n",
    "    )\n",
    "    \n",
    "    conversation.invoke(input=query)\n",
    "    itinerary = conversation.predict(input=query)\n",
    "    return itinerary\n",
    "\n",
    "# Create the Gradio interface\n",
    "app=gr.Interface(\n",
    "    fn=generate_itinerary,\n",
    "    inputs=[\n",
    "        gr.Textbox(label=\"City\"),\n",
    "        gr.Number(label=\"Days\", step=1),\n",
    "        gr.Number(label=\"Activities Per Day\", step=1),\n",
    "        gr.Radio(label=\"Top Priority\", choices=[\"Music\", \"Food\", \"Museums\", \"Sports\"]),\n",
    "        gr.CheckboxGroup(label=\"Other Preferences\", choices=[\"Adventure\", \"Food\", \"Michelin Star Meals\", \"Museums\", \"Nature\", \"Sports\", \"Wine Tasting\"]),\n",
    "        gr.Textbox(label=\"Special Requests\"),\n",
    "    ],\n",
    "    outputs=gr.Textbox(label=\"Itinerary\"),\n",
    "    title=\"Site Seeing Recommendations\",\n",
    "    description=\"This demo illustrates how the app works with LLM to provide a site seeing itinerary! Enjoy!\"\n",
    ")\n",
    "app.launch()\n"
   ]
  }
 ],
 "metadata": {
  "kernelspec": {
   "display_name": "base",
   "language": "python",
   "name": "python3"
  },
  "language_info": {
   "codemirror_mode": {
    "name": "ipython",
    "version": 3
   },
   "file_extension": ".py",
   "mimetype": "text/x-python",
   "name": "python",
   "nbconvert_exporter": "python",
   "pygments_lexer": "ipython3",
   "version": "3.11.5"
  }
 },
 "nbformat": 4,
 "nbformat_minor": 2
}
